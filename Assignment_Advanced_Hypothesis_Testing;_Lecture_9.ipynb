{
  "nbformat": 4,
  "nbformat_minor": 0,
  "metadata": {
    "colab": {
      "provenance": [],
      "authorship_tag": "ABX9TyPYs12c2/gCuGPF1w/BKMfV",
      "include_colab_link": true
    },
    "kernelspec": {
      "name": "python3",
      "display_name": "Python 3"
    },
    "language_info": {
      "name": "python"
    }
  },
  "cells": [
    {
      "cell_type": "markdown",
      "metadata": {
        "id": "view-in-github",
        "colab_type": "text"
      },
      "source": [
        "<a href=\"https://colab.research.google.com/github/lakmg2007/SCALAR_LEARNINGS/blob/main/Assignment_Advanced_Hypothesis_Testing%3B_Lecture_9.ipynb\" target=\"_parent\"><img src=\"https://colab.research.google.com/assets/colab-badge.svg\" alt=\"Open In Colab\"/></a>"
      ]
    },
    {
      "cell_type": "markdown",
      "source": [
        "#Step-by-Step Guide to Choosing the Right Hypothesis Test\n",
        "#**What are you trying to compare?**\n",
        "\n",
        "##**Are you testing a mean, a proportion, a variance, or comparing two groups?**\n",
        "\n",
        "##**For a single mean: z-test or t-test**\n",
        "\n",
        "##**For a proportion: z-test for proportions**\n",
        "\n",
        "##**For comparing two means: two-sample t-test or paired t-test**\n",
        "\n",
        "##**For more than two groups: ANOVA**\n",
        "\n",
        "##**For categorical data: chi-square test**\n",
        "\n",
        "#**Do you know the population standard deviation?**\n",
        "\n",
        "##**Yes → consider a z-test**\n",
        "\n",
        "##**No → consider a t-test**\n",
        "\n",
        "##This is often the deciding factor between using z vs. t when testing means.\n",
        "\n",
        "#**How many samples do you have?**\n",
        "\n",
        "#One sample: one-sample z-test or t-test\n",
        "\n",
        "#Two independent samples: two-sample t-test (equal or unequal variances)\n",
        "\n",
        "#Paired samples (same group measured twice): paired t-test\n",
        "\n",
        "#**What’s your sample size?**\n",
        "\n",
        "##For small samples (typically n < 30), use the t-distribution unless the population standard deviation is known.\n",
        "\n",
        "##For large samples, the central limit theorem allows the use of the z-test even if the population is not perfectly normal.\n",
        "\n",
        "##Is the population approximately normally distributed?\n",
        "\n",
        "##This assumption matters more for small samples using t-tests.\n",
        "\n",
        "##For larger samples, normality is less of a concern."
      ],
      "metadata": {
        "id": "avo1BZ4iMVyu"
      }
    },
    {
      "cell_type": "code",
      "source": [
        "#Historically, the mean weight of airline passengers with carry-on baggage was 195 lb, with a standard deviation of 5 lb.\n",
        "#The airline has continued to use this historical mean as a benchmark to ensure safety, optimize operations, and enhance passenger satisfaction.\n",
        "#To investigate if the average weight of passengers with carry-on baggage has decreased below the historical average of 195 lb,\n",
        "#the airline manager wants to test the claim that the mean weight is at least 195 lb, at a 95% confidence level.\n",
        "#Which of the following hypothesis tests is most appropriate?"
      ],
      "metadata": {
        "id": "f3R9aZY6NXYn"
      },
      "execution_count": null,
      "outputs": []
    },
    {
      "cell_type": "code",
      "execution_count": null,
      "metadata": {
        "id": "pwXj1TW-MOHJ"
      },
      "outputs": [],
      "source": [
        "\n",
        "\n",
        "Ans: left-tailed test\n",
        "\n",
        "To determine if the average passenger weight has decreased below the historical benchmark of 195 lb, you're essentially conducting a one-tailed hypothesis test for the population mean. Assuming the population standard deviation is known (5 lb), and you're likely working with a sample of data, the most appropriate test would be a one-sample z-test.\n",
        "\n",
        "Here’s how the hypothesis setup would look:\n",
        "\n",
        "Null hypothesis (H₀): μ ≥ 195 (the population mean is at least 195 lb)\n",
        "\n",
        "Alternative hypothesis (H₁): μ < 195 (the population mean is less than 195 lb)\n",
        "\n",
        "Since you're trying to test if the mean has dropped below 195, the test is left-tailed\n"
      ]
    },
    {
      "cell_type": "markdown",
      "source": [
        "Weekly sales of shampoo bottles has an average of 1800 . A marketing company feels that this can be improved with right advertisement and promotions.\n",
        "\n",
        "What should be the null and alternate hypothesis, in order to validate their claim?\n",
        "\n",
        "Let μ denote the average sales after marketing.\n",
        "\n",
        "i). H\n",
        "0\n",
        "​\n",
        " :μ≤1800 and H\n",
        "a\n",
        "​\n",
        " :μ=1800\n",
        "\n",
        "ii). H\n",
        "0\n",
        "​\n",
        " :μ<1800 and H\n",
        "a\n",
        "​\n",
        " :μ≥1800\n",
        "\n",
        "iii). H\n",
        "0\n",
        "​\n",
        " :μ=1800 and H\n",
        "a\n",
        "​\n",
        " :μ\n",
        "\n",
        "​\n",
        " =1800\n",
        "\n",
        "iv). H\n",
        "0\n",
        "​\n",
        " :μ=1800 and H\n",
        "a\n",
        "​\n",
        " :μ>1800"
      ],
      "metadata": {
        "id": "V7zI_DNKNkN2"
      }
    },
    {
      "cell_type": "code",
      "source": [
        "To validate the marketing company's claim that their efforts will increase average sales, you want to test if the mean sales after advertising (μ) is greater than 1800.\n",
        "\n",
        "That leads us to:\n",
        "\n",
        "Null hypothesis (H₀): μ = 1800 (no change in average sales)\n",
        "\n",
        "Alternative hypothesis (H₁): μ > 1800 (sales have increased)\n",
        "\n",
        "So, the correct option is:\n",
        "\n",
        "> iv). H₀: μ = 1800 and Hₐ: μ > 1800\n",
        "\n",
        "This is a right-tailed test, since you're checking for an improvement in one direction (sales going up)."
      ],
      "metadata": {
        "id": "Ill0GDnENm_O"
      },
      "execution_count": null,
      "outputs": []
    },
    {
      "cell_type": "markdown",
      "source": [
        "#In a court case, the null hypothesis is that the defendant is innocent.Identify the Type-2 error among the following."
      ],
      "metadata": {
        "id": "rpW2kP5nOYtO"
      }
    },
    {
      "cell_type": "markdown",
      "source": [
        "#Types of Errors\n",
        "\n",
        "##Type I Error (False Positive):\n",
        "##Occurs when H₀ is true, but we incorrectly reject it.\n",
        "##Example: Convicting an innocent defendant.\n",
        "\n",
        "##Type II Error (False Negative):\n",
        "##Occurs when H₀ is false, but we fail to reject it.\n",
        "##Example: Acquitting a guilty defendant."
      ],
      "metadata": {
        "id": "_LjElZvsPELu"
      }
    },
    {
      "cell_type": "code",
      "source": [
        "In the context of a court case, where:\n",
        "\n",
        "Null hypothesis (H₀): The defendant is innocent\n",
        "\n",
        "Alternative hypothesis (H₁): The defendant is guilty\n",
        "\n",
        "A Type-2 error occurs when we fail to reject a false null hypothesis.\n",
        "\n",
        "So, in plain terms, a Type-2 error would be:\n",
        "\n",
        "> The court finds the defendant not guilty (fails to reject H₀), even though the defendant is actually guilty (H₀ is false).\n",
        "\n",
        "It means a guilty person is mistakenly let go because there wasn’t enough evidence to convict them. It’s the statistical equivalent of giving someone the benefit of the doubt when they shouldn't have received it."
      ],
      "metadata": {
        "id": "O8J0SaOeO5lm"
      },
      "execution_count": null,
      "outputs": []
    },
    {
      "cell_type": "markdown",
      "source": [
        "#A group of people have volunteered to try out a diet for weight loss for 3 months. How should the null and alternate hypotheses be set up?"
      ],
      "metadata": {
        "id": "hfSrLWOiQ5kG"
      }
    },
    {
      "cell_type": "code",
      "source": [
        "To evaluate whether the diet has an effect on weight loss, you'll want to compare participants' weights before and after the 3-month period. So we’re dealing with paired (dependent) samples.\n",
        "\n",
        "Let’s denote:\n",
        "\n",
        "μ = mean weight loss after 3 months on the diet\n",
        "\n",
        "Now, since the goal is weight loss, we’re interested in whether the average weight has decreased. Here's how the hypotheses would typically be set up:\n",
        "\n",
        "Null hypothesis (H₀): μ = 0 (the diet has no effect on weight, i.e., no average change)\n",
        "\n",
        "Alternative hypothesis (H₁): μ > 0 (the diet leads to weight loss, i.e., positive average reduction)\n",
        "\n",
        "This would usually be tested using a paired t-test, especially if the sample size is small and the population standard deviation is unknown.\n",
        "\n",
        "\n",
        "So the Answer is : the diet has no effect on weight and the diet leads to weight loss)"
      ],
      "metadata": {
        "id": "QLTIgyKoQ8qm"
      },
      "execution_count": null,
      "outputs": []
    },
    {
      "cell_type": "markdown",
      "source": [
        "#You perform a one-tailed hypothesis test with a significance level of 0.01. If the p-value is 0.015, what is the appropriate conclusion?"
      ],
      "metadata": {
        "id": "_wKtMN8URHjV"
      }
    },
    {
      "cell_type": "code",
      "source": [
        "If p-value ≤ significance level: Reject H₀.\n",
        "If p-value > significance level: Fail to reject H₀.\n",
        "\n",
        "The p-value (0.015) is greater than the significance level (α = 0.01), which means there isn't enough evidence to reject the null hypothesis.\n",
        "\n",
        "So, Fail to reject null hypothesis"
      ],
      "metadata": {
        "id": "pqj1skYtRrHf"
      },
      "execution_count": null,
      "outputs": []
    },
    {
      "cell_type": "markdown",
      "source": [
        "#A data scientist is working on a credit scoring model for a bank.\n",
        "\n",
        "#The goal is to determine if an applicant is creditworthy (has a low credit risk) or not creditworthy (has a high credit risk) based on various financial factors.\n",
        "\n",
        "#The bank has set a credit score threshold (significance level), and applicants above this threshold are considered creditworthy, while those below it are considered not creditworthy.\n",
        "\n",
        "\n",
        "#H₀ (Null Hypothesis): Applicant is creditworthy (safe)\n",
        "#H₁ (Alternate Hypothesis): Applicant is not creditworthy (risky)\n",
        "#Consider the following scenarios:\n",
        "\n",
        "\n",
        "##Case A:\n",
        "\n",
        "##Reality: Applicant is not creditworthy.\n",
        "\n",
        "##Decision: The model correctly identifies the applicant as not creditworthy.\n",
        "\n",
        "##Case B:\n",
        "\n",
        "##Reality: Applicant is not creditworthy.\n",
        "\n",
        "##Decision: The model incorrectly classifies the applicant as creditworthy.\n",
        "\n",
        "##Case C:\n",
        "\n",
        "##Reality: Applicant is creditworthy.\n",
        "\n",
        "##Decision: The model incorrectly classifies the applicant as not creditworthy.\n",
        "\n",
        "##Case D:\n",
        "\n",
        "##Reality: Applicant is creditworthy.\n",
        "\n",
        "##Decision: The model correctly identifies the applicant as creditworthy.\n",
        "\n",
        "##What names can we give to these cases respectively?"
      ],
      "metadata": {
        "id": "D9ZnmAqvSBT2"
      }
    },
    {
      "cell_type": "code",
      "source": [
        "Case A: ✅ True Positive The model correctly rejected the null hypothesis — it identified a risky applicant correctly.\n",
        "\n",
        "Case B: ❌ Type II Error (False Negative) The model failed to reject a false null hypothesis — it mistakenly classified a risky applicant as safe.\n",
        "\n",
        "Case C: ❌ Type I Error (False Positive) The model rejected a true null hypothesis — it wrongly labeled a safe applicant as risky.\n",
        "\n",
        "Case D: ✅ True Negative The model correctly failed to reject the null — it recognized a safe applicant correctly.\n",
        "\n",
        "So that answer: True Positive, Type II Error (False Negative) , Type I Error (False Positive) , True Negative"
      ],
      "metadata": {
        "id": "TcdANgiaUeie"
      },
      "execution_count": null,
      "outputs": []
    },
    {
      "cell_type": "markdown",
      "source": [
        "#A marketing team aims to estimate the average time, visitors spend on their website.\n",
        "\n",
        "#They gathered a random sample of 100 visitors and determined that the average time spent on the website was 4.5 minutes.\n",
        "\n",
        "#The team is working under the assumption that the population's mean time spent on the website is 4.0 minutes, with a standard deviation of 1.2 minutes.\n",
        "\n",
        "#Their goal is to estimate the true time spent on the website with a 95% confidence level. Calculate the confidence interval values and make a conclusion based on the calculated interval."
      ],
      "metadata": {
        "id": "EbojQ8NwU94N"
      }
    },
    {
      "cell_type": "code",
      "source": [
        "import numpy as np\n",
        "from scipy import stats\n",
        "\n",
        "sample_mean = 4.5\n",
        "sample_std = 1.2\n",
        "n = 100\n",
        "\n",
        "confidence_level = 0.95\n",
        "\n",
        "#Since 𝑛≥30 and 𝜎 is known, we’ll use the z-distribution\n",
        "# Calculate the standard error\n",
        "standard_error = sample_std / np.sqrt(n)\n",
        "print(f\"standard_error :{standard_error}\")\n",
        "\n",
        "# Determine the critical value for 95% confidence\n",
        "z_critical = stats.norm.ppf((1 + confidence_level) / 2)\n",
        "z_critical\n",
        "print(f\"z_critical: {z_critical}\")\n",
        "\n",
        "# Calculate the margin of error\n",
        "margin_of_error = z_critical * standard_error\n",
        "print(f\"margin_of_error: {margin_of_error}\")\n",
        "\n",
        "# Determine the confidence interval\n",
        "ci_lower = sample_mean - margin_of_error\n",
        "ci_upper = sample_mean + margin_of_error\n",
        "\n",
        "print(f\"95% Confidence Interval for Mean Charges: ({ci_lower:.3f}, {ci_upper:.3f})\")"
      ],
      "metadata": {
        "colab": {
          "base_uri": "https://localhost:8080/"
        },
        "id": "d1-qZzhnVGPm",
        "outputId": "04b897f3-dfc3-470e-da22-ede7ce330ddf"
      },
      "execution_count": 9,
      "outputs": [
        {
          "output_type": "stream",
          "name": "stdout",
          "text": [
            "standard_error :0.12\n",
            "z_critical: 1.959963984540054\n",
            "margin_of_error: 0.23519567814480646\n",
            "95% Confidence Interval for Mean Charges: (4.265, 4.735)\n"
          ]
        }
      ]
    }
  ]
}