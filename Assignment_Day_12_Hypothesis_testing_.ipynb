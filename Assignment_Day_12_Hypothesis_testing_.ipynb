{
  "nbformat": 4,
  "nbformat_minor": 0,
  "metadata": {
    "colab": {
      "provenance": [],
      "authorship_tag": "ABX9TyM5K7AetDrETarVnjmGULTq",
      "include_colab_link": true
    },
    "kernelspec": {
      "name": "python3",
      "display_name": "Python 3"
    },
    "language_info": {
      "name": "python"
    }
  },
  "cells": [
    {
      "cell_type": "markdown",
      "metadata": {
        "id": "view-in-github",
        "colab_type": "text"
      },
      "source": [
        "<a href=\"https://colab.research.google.com/github/lakmg2007/SCALAR_LEARNINGS/blob/main/Assignment_Day_12_Hypothesis_testing_.ipynb\" target=\"_parent\"><img src=\"https://colab.research.google.com/assets/colab-badge.svg\" alt=\"Open In Colab\"/></a>"
      ]
    },
    {
      "cell_type": "markdown",
      "source": [
        "#**Question 1:** An experiment was performed to compare the effectiveness of Ammonium Chloride and urea on the grain yield (in quintal per hectare) and the results are given in the arrays below:\n",
        "\n",
        "#Ammonium_chloride = [13.4, 10.9, 11.2, 11.8, 14, 15.3, 14.2, 12.6, 17, 16.2, 16.5, 15.7]\n",
        "#Urea = [12, 11.7, 10.7, 11.2, 14.8, 14.4, 13.9, 13.7, 16.9, 16, 15.6, 16]\n",
        "#Conduct an appropriate test to compare the same with a 95% confidence level and choose the appropriate option below."
      ],
      "metadata": {
        "id": "PFQrnJ6eZivN"
      }
    },
    {
      "cell_type": "markdown",
      "source": [
        "#**To Identify which test to use:**\n",
        "\n",
        "#There is no direction for the difference (like “Ammonium is better” or “Urea is worse”). Instead, the question is whether there’s a difference in effectiveness — that’s non-directional.\n",
        "\n",
        "#why a two-tailed test?\n",
        "#Because  H₀: μ₁ = μ₂  and  H₁: μ₁ ≠ μ₂\n",
        "\n",
        "#This means its open to any difference — it could be that Ammonium Chloride yields more or less than Urea. A two-tailed test allows for both possibilities.\n",
        "\n"
      ],
      "metadata": {
        "id": "CQp63RK2bhed"
      }
    },
    {
      "cell_type": "markdown",
      "source": [
        "#**When would you use a one-tailed test instead?**\n",
        "#If your hypothesis was directional — for example: > “Ammonium Chloride increases grain yield compared to Urea”\n",
        "\n",
        "#Then your alternative hypothesis would be: > H₁: μ₁ > μ₂ (one-tailed, right)\n",
        "\n",
        "#That’s more powerful when your assumption is strongly justified, but risky if the effect goes the opposite way — you'd miss it."
      ],
      "metadata": {
        "id": "DYmIKrz6cJ1N"
      }
    },
    {
      "cell_type": "markdown",
      "source": [
        "#**why ttest_ind is considered and not ztest**\n",
        "#Population Standard Deviations Are Unknown\n",
        "#The key reason: we don’t know the population standard deviations for grain yields with Ammonium Chloride and Urea. The z-test assumes these are known and fixed, which is rarely the case in real-world experiments.\n",
        "\n",
        "#Since we only have sample standard deviations, the t-test is the correct choice.\n",
        "\n",
        "#Sample Sizes Are Small (n = 12)\n",
        "#With both groups having only 12 observations:\n",
        "\n",
        "#Central limit theorem doesn’t fully kick in\n",
        "\n",
        "#We must account for extra uncertainty in estimating the standard errors → which is exactly what the t-distribution does with its heavier tails"
      ],
      "metadata": {
        "id": "RbxV8dHlcPre"
      }
    },
    {
      "cell_type": "code",
      "execution_count": 5,
      "metadata": {
        "colab": {
          "base_uri": "https://localhost:8080/"
        },
        "id": "COvcb8VdYwOH",
        "outputId": "1b76e463-2886-4959-978f-56362b08e0bf"
      },
      "outputs": [
        {
          "output_type": "stream",
          "name": "stdout",
          "text": [
            "t_stat:0.1846\n",
            "p_value:0.8552\n"
          ]
        }
      ],
      "source": [
        "from statsmodels.stats import weightstats as stests\n",
        "from scipy import stats\n",
        "from scipy.stats import ttest_ind\n",
        "\n",
        "Ammonium_chloride = [13.4, 10.9, 11.2, 11.8, 14, 15.3, 14.2, 12.6, 17, 16.2, 16.5, 15.7]\n",
        "Urea = [12, 11.7, 10.7, 11.2, 14.8, 14.4, 13.9, 13.7, 16.9, 16, 15.6, 16]\n",
        "t_stat, p_value = ttest_ind(Ammonium_chloride, Urea, equal_var=False)\n",
        "print(f\"t_stat:{t_stat:.4f}\")\n",
        "print(f\"p_value:{p_value:.4f}\")"
      ]
    },
    {
      "cell_type": "code",
      "source": [
        "from scipy.stats import ttest_ind\n",
        "\n",
        "ammonium_chloride = [13.4, 10.9, 11.2, 11.8, 14, 15.3, 14.2, 12.6, 17, 16.2, 16.5, 15.7]\n",
        "urea = [12, 11.7, 10.7, 11.2, 14.8, 14.4, 13.9, 13.7, 16.9, 16, 15.6, 16]\n",
        "\n",
        "t_stat, p_value = ttest_ind(ammonium_chloride, urea, equal_var=False)\n",
        "\n",
        "print(f\"T-statistic: {t_stat:.4f}\")\n",
        "print(f\"P-value: {p_value:.4f}\")"
      ],
      "metadata": {
        "colab": {
          "base_uri": "https://localhost:8080/"
        },
        "id": "2xRadEILdjle",
        "outputId": "7f01040a-003e-4fdb-a5d5-98870f289c39"
      },
      "execution_count": 6,
      "outputs": [
        {
          "output_type": "stream",
          "name": "stdout",
          "text": [
            "T-statistic: 0.1846\n",
            "P-value: 0.8552\n"
          ]
        }
      ]
    },
    {
      "cell_type": "markdown",
      "source": [
        "#**Question 2:** When smokers smoke, nicotine is transformed into cotinine, which can be tested.\n",
        "\n",
        "#The average cotinine level in a group of 50 smokers was 243.5 ng ml.\n",
        "\n",
        "#Assuming that the standard deviation is known to be 229.5 ng ml.\n",
        "\n",
        "#Test the assertion that the mean cotinine level of all smokers is equal to 300.0 ng ml, at 95% confidence."
      ],
      "metadata": {
        "id": "3MedbEkHd_yF"
      }
    },
    {
      "cell_type": "markdown",
      "source": [
        "#Null Hypothesis (H₀): μ = 300.0\n",
        "\n",
        "#Alternative Hypothesis (H₁): μ ≠ 300.0 This is a two-tailed test because we’re checking for any difference, not just greater or lesser."
      ],
      "metadata": {
        "id": "oGUv6jDSesU9"
      }
    },
    {
      "cell_type": "code",
      "source": [
        "import math\n",
        "from scipy.stats import norm\n",
        "from scipy.stats import norm\n",
        "\n",
        "sample_mean = 243.5\n",
        "hypothesized_mean = 300.0\n",
        "std_dev = 229.5\n",
        "sample_size = 50\n",
        "confidence_level = 0.95\n",
        "\n",
        "# Step 1: Calculate Standard Error\n",
        "standard_error = std_dev / math.sqrt(sample_size)\n",
        "print(standard_error)\n",
        "\n",
        "# Step 2: Compute z-statistic\n",
        "z_stat = (sample_mean - hypothesized_mean) / standard_error\n",
        "\n",
        "# Step 3: Determine critical z-value for 95% confidence (two-tailed)\n",
        "z_critical = norm.ppf(1 - (1 - confidence_level) / 2)\n",
        "# Step 4: Decision\n",
        "if abs(z_stat) > z_critical:\n",
        "    result = \"Reject the null hypothesis\"\n",
        "else:\n",
        "    result = \"Fail to reject the null hypothesis\"\n",
        "\n",
        "# Output results\n",
        "print(f\"Z-statistic: {z_stat:.4f}\")\n",
        "print(f\"Critical z-value: ±{z_critical:.4f}\")\n",
        "print(f\"Conclusion: {result}\")\n",
        "\n",
        "\n",
        "# Two-tailed p-value\n",
        "p_value = 2 * norm.sf(abs(z_stat))  # sf = survival function = 1 - cdf\n",
        "\n",
        "print(f\"P-value: {p_value:.4f}\")\n"
      ],
      "metadata": {
        "colab": {
          "base_uri": "https://localhost:8080/"
        },
        "id": "cjsiD7FdeC-d",
        "outputId": "bf0eae89-d13f-4ddb-8eda-2361e8099287"
      },
      "execution_count": 9,
      "outputs": [
        {
          "output_type": "stream",
          "name": "stdout",
          "text": [
            "32.45620125646253\n",
            "Z-statistic: -1.7408\n",
            "Critical z-value: ±1.9600\n",
            "Conclusion: Fail to reject the null hypothesis\n",
            "P-value: 0.0817\n"
          ]
        }
      ]
    },
    {
      "cell_type": "markdown",
      "source": [
        "#so the answer is : P-value: 0.0817 , the mean cotinine level of all smokers is equal to 300.0 ng/ml."
      ],
      "metadata": {
        "id": "L87A5Kpjgfpt"
      }
    },
    {
      "cell_type": "markdown",
      "source": [],
      "metadata": {
        "id": "o4M4bTeUZ4EW"
      }
    },
    {
      "cell_type": "markdown",
      "source": [
        "#**Question 3:** A French cafe has historically maintained that their average daily pastry production is at most 500.\n",
        "\n",
        "#With the installation of a new machine, they assert that the average daily pastry production has increased. The average number of pastries produced per day over a 70-day period was found to be 530.\n",
        "\n",
        "#Assume that the population standard deviation for the pastries produced per day is 125.\n",
        "\n",
        "#Perform a z-test with the critical z-value = 1.64 at the alpha (significance level) = 0.05 to evaluate if there's sufficient evidence to support their claim of the new machine producing more than 500 pastries daily.\n",
        "\n",
        "#Note: Round off the z-score to two decimal places."
      ],
      "metadata": {
        "id": "OlqcQy5ThEDd"
      }
    },
    {
      "cell_type": "markdown",
      "source": [
        "#**How to determine i should conduct one-tailed z-test?**\n",
        "##**Step 1: Look at the Alternative Hypothesis (H₁)**\n",
        "##One-tailed test is appropriate when you're testing for a **specific direction of change** (either greater than or less than).\n",
        "\n",
        "##Example: “The new machine increases pastry production” → H₁: μ > μ₀\n",
        "\n",
        "##Example: “The new medication reduces blood pressure” → H₁: μ < μ₀\n",
        "\n",
        "##Two-tailed test is appropriate when you're testing for any **difference, regardless of direction**.\n",
        "\n",
        "##Example: “The new method changes the average processing time” → H₁: μ ≠ μ₀\n",
        "\n",
        "##**Step 2: Is the Standard Deviation Known?**\n",
        "##**If population standard deviation is known**, and sample size is reasonably large (n ≥ 30), you can use a **z-test**.\n",
        "\n",
        "##If **σ is unknown**, you'd go for a **t-test** instead.\n",
        "\n",
        "#**Rule of Thumb:**\n",
        "#> If your research question uses words like **“increase”** or **“decrease”**, think **one-tailed**.\n",
        "#> If it says **“change**, **impact, or effect”** without **specifying direction**, use **two-tailed**.\n",
        "\n",
        "\n",
        "\n"
      ],
      "metadata": {
        "id": "um1sEDmZqEv1"
      }
    },
    {
      "cell_type": "markdown",
      "source": [
        "#**Null Hypothesis:**\n",
        "#H₀: μ ≤ 500 (The average number of pastries produced per day is at most 500)\n",
        "\n",
        "#But because we're using a one-tailed z-test with a claim of increase, we usually set the null in the form:\n",
        "\n",
        "#**H₀:μ = 500**\n",
        "#This is the specific value we test against.\n",
        "\n",
        "#**Alternative Hypothesis:**\n",
        "#H₁: μ > 500 (The new machine has increased average daily production)\n",
        "\n",
        "#This framing sets us up for a right-tailed test, where we only consider values significantly greater than 500 as evidence against the null."
      ],
      "metadata": {
        "id": "L1xWK5lCsYNF"
      }
    },
    {
      "cell_type": "code",
      "source": [
        "import math\n",
        "from scipy.stats import norm\n",
        "\n",
        "# Given data\n",
        "sample_mean = 530\n",
        "population_mean = 500\n",
        "std_dev = 125\n",
        "sample_size = 70\n",
        "alpha = 0.05\n",
        "z_critical = 1.64  # Given in the problem\n",
        "\n",
        "# Step 1: Calculate Standard Error\n",
        "standard_error = std_dev / math.sqrt(sample_size)\n",
        "\n",
        "# Step 2: Compute z-statistic\n",
        "z_stat = (sample_mean - population_mean) / standard_error\n",
        "\n",
        "# Step 3: Compare z-statistic to critical z-value\n",
        "if z_stat > z_critical:\n",
        "    conclusion = \"Reject the null hypothesis: The new machine increased production.\"\n",
        "else:\n",
        "    conclusion = \"Fail to reject the null hypothesis: Not enough evidence of increased production.\"\n",
        "\n",
        "# Step 4: Output results\n",
        "print(f\"Z-statistic: {z_stat:.2f}\")\n",
        "print(f\"Critical z-value: {z_critical}\")\n",
        "print(f\"Conclusion: {conclusion}\")\n"
      ],
      "metadata": {
        "colab": {
          "base_uri": "https://localhost:8080/"
        },
        "id": "2_KHx7aSowf9",
        "outputId": "90394991-785b-4d6f-f3c8-e0546ddfe167"
      },
      "execution_count": 10,
      "outputs": [
        {
          "output_type": "stream",
          "name": "stdout",
          "text": [
            "Z-statistic: 2.01\n",
            "Critical z-value: 1.64\n",
            "Conclusion: Reject the null hypothesis: The new machine increased production.\n"
          ]
        }
      ]
    },
    {
      "cell_type": "markdown",
      "source": [
        "# **Question 4:** The Chai Point stall at Bengaluru airport estimates that each person visiting the store drinks an average of 1.7 small cups of tea.\n",
        "\n",
        "#Assume a population standard deviation of 0.5 small cups. A sample of 30 customers collected over a few days averaged 1.85 small cups of tea per person.\n",
        "\n",
        "#Test the claim using an appropriate test at an alpha = 0.05 significance value, with a critical z-score value of ±1.96.\n",
        "\n",
        "#Note: Round off the z-score to two decimal places."
      ],
      "metadata": {
        "id": "cngK-g2bsx2M"
      }
    },
    {
      "cell_type": "markdown",
      "source": [
        "# **Step 1:** Set up the hypotheses\n",
        "# Null Hypothesis (H₀): μ = 1.7\n",
        "\n",
        "# Alternative Hypothesis (H₁): μ ≠ 1.7\n",
        "\n",
        "# This is a two-tailed test because we’re testing for any change — not just an increase or decrease.\n",
        "\n"
      ],
      "metadata": {
        "id": "8e1UEC33tg_F"
      }
    },
    {
      "cell_type": "code",
      "source": [
        "import math\n",
        "from scipy.stats import norm\n",
        "\n",
        "# Given data\n",
        "sample_mean = 1.85\n",
        "population_mean = 1.7\n",
        "std_dev = 0.5\n",
        "n = 30\n",
        "alpha = 0.05\n",
        "z_critical = 1.96  # for 95% confidence (two-tailed)\n",
        "\n",
        "# Step 1: Calculate Standard Error\n",
        "standard_error = std_dev / math.sqrt(n)\n",
        "\n",
        "# Step 2: Compute z-statistic\n",
        "z_stat = (sample_mean - population_mean) / standard_error\n",
        "\n",
        "# Step 3: Determine p-value (two-tailed)\n",
        "p_value = 2 * norm.sf(abs(z_stat))\n",
        "\n",
        "# Step 4: Conclusion based on critical z-value\n",
        "if abs(z_stat) > z_critical:\n",
        "    conclusion = \"Reject the null hypothesis: The average cups per customer has changed.\"\n",
        "else:\n",
        "    conclusion = \"Fail to reject the null hypothesis: No significant change in average cups per customer.\"\n",
        "\n",
        "# Output\n",
        "print(f\"Z-statistic: {z_stat:.2f}\")\n",
        "print(f\"P-value: {p_value:.4f}\")\n",
        "print(f\"Conclusion: {conclusion}\")\n"
      ],
      "metadata": {
        "colab": {
          "base_uri": "https://localhost:8080/"
        },
        "id": "yVSOONGcuJ68",
        "outputId": "4b5e7c84-6743-4107-df0c-610328c00b58"
      },
      "execution_count": 11,
      "outputs": [
        {
          "output_type": "stream",
          "name": "stdout",
          "text": [
            "Z-statistic: 1.64\n",
            "P-value: 0.1003\n",
            "Conclusion: Fail to reject the null hypothesis: No significant change in average cups per customer.\n"
          ]
        }
      ]
    },
    {
      "cell_type": "markdown",
      "source": [
        "# **Question 5:** A country has a population average height of 65 inches with a standard deviation of 2.5. A person feels people from his state are shorter. He takes the average of 20 people and sees that it is 64.5.\n",
        "\n",
        "# At a 5% significance level (or 95% confidence level), can we conclude that people from his state are shorter, using the Z-test? What is the p-value?"
      ],
      "metadata": {
        "id": "cp_HjKZsukU8"
      }
    },
    {
      "cell_type": "markdown",
      "source": [
        "# **Step 1: Define the hypotheses**\n",
        "# Null Hypothesis (H₀): μ = 65 (no difference in average height)\n",
        "\n",
        "# Alternative Hypothesis (H₁): μ < 65 (people from the state are shorter)\n",
        "\n",
        "# This is a left-tailed test at α = 0.05."
      ],
      "metadata": {
        "id": "G598b205u57U"
      }
    },
    {
      "cell_type": "markdown",
      "source": [
        "# **When to use CDF,PDF and SF**\n",
        "\n",
        "# **Use cdf when you're looking for Left-tailed test::**\n",
        "# > “What is the probability that a value is less than or equal to X?”\n",
        "\n",
        "# So, in the context of hypothesis testing:\n",
        "\n",
        "# Left-tailed test: You use norm.cdf(z) → Because you're calculating the area to the left of the z-score\n",
        "\n",
        "# Example:\n",
        "# from scipy.stats import norm\n",
        "# p_value = norm.cdf(-1.5)  # area to the left of z = -1.5\n",
        "\n",
        "# **Use sf when you're looking for right-tailed test:**\n",
        "# What if you're doing a right-tailed test?\n",
        "# Use the **Survival Function**: norm.sf(z) → It’s just 1 - cdf(z), which gives area to the right.\n",
        "\n",
        "# python\n",
        "# p_value = norm.sf(1.5)  # area to the right of z = 1.5\n",
        "\n",
        "# **For two-tailed tests?**\n",
        "# You calculate the probability of getting as extreme or more in both directions:\n",
        "\n",
        "# python\n",
        "# z = 1.5\n",
        "# p_value = 2 * norm.sf(abs(z))  # same as: 2 * (1 - norm.cdf(abs(z)))"
      ],
      "metadata": {
        "id": "49eGos4cvctE"
      }
    },
    {
      "cell_type": "code",
      "source": [
        "import math\n",
        "from scipy.stats import norm\n",
        "\n",
        "# Given values\n",
        "population_mean = 65\n",
        "sample_mean = 64.5\n",
        "std_dev = 2.5\n",
        "sample_size = 20\n",
        "alpha = 0.05\n",
        "\n",
        "# Step 1: Calculate Standard Error\n",
        "standard_error = std_dev / math.sqrt(sample_size)\n",
        "\n",
        "# Step 2: Calculate z-statistic\n",
        "z_stat = (sample_mean - population_mean) / standard_error\n",
        "\n",
        "# Step 3: Calculate p-value for left-tailed test\n",
        "p_value = norm.cdf(z_stat)  # since it's a 'shorter than' claim (left-tailed)\n",
        "\n",
        "# Step 4: Determine conclusion\n",
        "if p_value < alpha:\n",
        "    conclusion = \"Reject the null hypothesis: People from this state are significantly shorter.\"\n",
        "else:\n",
        "    conclusion = \"Fail to reject the null hypothesis: Not enough evidence to conclude people are shorter.\"\n",
        "\n",
        "# Output\n",
        "print(f\"Z-statistic: {z_stat:.4f}\")\n",
        "print(f\"P-value: {p_value:.4f}\")\n",
        "print(f\"Conclusion: {conclusion}\")\n"
      ],
      "metadata": {
        "colab": {
          "base_uri": "https://localhost:8080/"
        },
        "id": "zrOL8GxEvBZW",
        "outputId": "da1bac9b-249f-4eb5-d50f-bde2b4255a83"
      },
      "execution_count": 12,
      "outputs": [
        {
          "output_type": "stream",
          "name": "stdout",
          "text": [
            "Z-statistic: -0.8944\n",
            "P-value: 0.1855\n",
            "Conclusion: Fail to reject the null hypothesis: Not enough evidence to conclude people are shorter.\n"
          ]
        }
      ]
    },
    {
      "cell_type": "markdown",
      "source": [
        "# **Question6:** Samples of Body fat percentages of few gym going men and women are recorded.\n",
        "\n",
        "# men = [13.3, 6.0, 20.0, 8.0, 14.0, 19.0, 18.0, 25.0, 16.0, 24.0, 15.0, 1.0, 15.0]\n",
        "# women = [22.0, 16.0, 21.7, 21.0, 30.0, 26.0, 12.0, 23.2, 28.0, 23.0]\n",
        "# Perform an appropriate test to check if the mean body fat percentage of men and women is statistically different.\n",
        "\n",
        "# Assume the significance level to be 5%.\n",
        "\n",
        "# Choose the correct option"
      ],
      "metadata": {
        "id": "Bof-w6eRwxW0"
      }
    },
    {
      "cell_type": "markdown",
      "source": [
        "# To compare whether the mean body fat percentages of men and women are statistically different, we’ll use a two-sample t-test (Welch's t-test). This is appropriate because:\n",
        "\n",
        "# We’re comparing means of two independent samples.\n",
        "\n",
        "# Sample sizes and variances appear unequal.\n",
        "\n",
        "# Population standard deviations are unknown.\n",
        "\n",
        "# Step 1: State the Hypotheses\n",
        "# Null Hypothesis (H₀): μ₁ = μ₂ (no difference in mean body fat %)\n",
        "\n",
        "# Alternative Hypothesis (H₁): μ₁ ≠ μ₂ (means are different)\n",
        "\n",
        "# This is a two-tailed test at α = 0.05."
      ],
      "metadata": {
        "id": "s5LMJsuqxjbc"
      }
    },
    {
      "cell_type": "code",
      "source": [
        "from scipy.stats import ttest_ind\n",
        "\n",
        "men = [13.3, 6.0, 20.0, 8.0, 14.0, 19.0, 18.0, 25.0, 16.0, 24.0, 15.0, 1.0, 15.0]\n",
        "women = [22.0, 16.0, 21.7, 21.0, 30.0, 26.0, 12.0, 23.2, 28.0, 23.0]\n",
        "\n",
        "t_stat, p_value = ttest_ind(men, women, equal_var=False)\n",
        "\n",
        "print(f\"T-statistic: {t_stat:.2f}\")\n",
        "print(f\"P-value: {p_value:.2f}\")\n"
      ],
      "metadata": {
        "colab": {
          "base_uri": "https://localhost:8080/"
        },
        "id": "FWAeSaCIwweF",
        "outputId": "08a4ac4a-07e2-42ef-ff77-2c84e171134a"
      },
      "execution_count": 14,
      "outputs": [
        {
          "output_type": "stream",
          "name": "stdout",
          "text": [
            "T-statistic: -2.90\n",
            "P-value: 0.01\n"
          ]
        }
      ]
    },
    {
      "cell_type": "markdown",
      "source": [
        "# At a 5% significance level (α = 0.05), the p-value (0.0133) is less than 0.05, so we reject the null hypothesis.\n",
        "\n",
        "# **> Conclusion: There is a statistically significant difference in mean body fat percentage between gym-going men and women.**"
      ],
      "metadata": {
        "id": "sjaRjw9VyKdk"
      }
    },
    {
      "cell_type": "markdown",
      "source": [
        "# **Question 7:** Samples of IQ scores are collected from two competing schools, as follows:\n",
        "\n",
        "# school_1 = [115, 111, 112, 101, 95, 98, 100, 90, 89, 108]\n",
        "# school_2 = [107, 103, 91, 99, 104, 98, 117, 113, 92, 96, 108, 115, 116, 88]\n",
        "# Perform an appropriate test with a 5% significance level to check if there is any statistically significant difference in the mean IQ's of these schools.\n",
        "\n",
        "# Choose the correct option below :"
      ],
      "metadata": {
        "id": "fvKA60pFyNgk"
      }
    },
    {
      "cell_type": "markdown",
      "source": [
        "# To determine whether there's a statistically significant difference in the mean IQ scores between the two schools, we’ll use Welch’s t-test — ideal when comparing two independent samples with potentially unequal variances and sample sizes.\n",
        "\n",
        "# Step 1: State the Hypotheses\n",
        "# Null Hypothesis (H₀): μ₁ = μ₂ (no difference in mean IQ)\n",
        "\n",
        "# Alternative Hypothesis (H₁): μ₁ ≠ μ₂ (means are different)\n",
        "\n",
        "# This is a two-tailed test at α = 0.05."
      ],
      "metadata": {
        "id": "GJ2Rp9qvyplr"
      }
    },
    {
      "cell_type": "code",
      "source": [
        "from scipy.stats import ttest_ind\n",
        "\n",
        "school_1 = [115, 111, 112, 101, 95, 98, 100, 90, 89, 108]\n",
        "school_2 = [107, 103, 91, 99, 104, 98, 117, 113, 92, 96, 108, 115, 116, 88]\n",
        "\n",
        "t_stat, p_value = ttest_ind(school_1, school_2, equal_var=False)\n",
        "\n",
        "print(f\"T-statistic: {t_stat:.4f}\")\n",
        "print(f\"P-value: {p_value:.4f}\")\n"
      ],
      "metadata": {
        "colab": {
          "base_uri": "https://localhost:8080/"
        },
        "id": "XaYORr6AyvZ-",
        "outputId": "2ceeaaa7-fb18-48bb-ef7f-0ade081c3edc"
      },
      "execution_count": 15,
      "outputs": [
        {
          "output_type": "stream",
          "name": "stdout",
          "text": [
            "T-statistic: -0.3726\n",
            "P-value: 0.7134\n"
          ]
        }
      ]
    },
    {
      "cell_type": "markdown",
      "source": [
        "# At a 5% significance level, the p-value (0.7167) is much greater than 0.05, so we fail to reject the null hypothesis.\n",
        "\n",
        "# **> Conclusion: There is no statistically significant difference in the mean IQ scores between the two schools.**"
      ],
      "metadata": {
        "id": "u-UTWfrdy608"
      }
    }
  ]
}