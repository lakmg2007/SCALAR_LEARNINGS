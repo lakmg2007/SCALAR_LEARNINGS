{
  "nbformat": 4,
  "nbformat_minor": 0,
  "metadata": {
    "colab": {
      "provenance": [],
      "authorship_tag": "ABX9TyNswZuXGQVF/Pl41fcTGUXm",
      "include_colab_link": true
    },
    "kernelspec": {
      "name": "python3",
      "display_name": "Python 3"
    },
    "language_info": {
      "name": "python"
    }
  },
  "cells": [
    {
      "cell_type": "markdown",
      "metadata": {
        "id": "view-in-github",
        "colab_type": "text"
      },
      "source": [
        "<a href=\"https://colab.research.google.com/github/lakmg2007/SCALAR_LEARNINGS/blob/main/DAV3.ipynb\" target=\"_parent\"><img src=\"https://colab.research.google.com/assets/colab-badge.svg\" alt=\"Open In Colab\"/></a>"
      ]
    },
    {
      "cell_type": "markdown",
      "source": [
        "# **Intro to Hypothesis Testing**\n",
        "Null & Alternative Hypothesis, Type I & Type II errors, Significance Level, p-value, critical value\n",
        "\n",
        "# **1. Null & Alternative Hypothesis**\n",
        "Null Hypothesis (H₀): Assumes no effect or no difference.\n",
        "Alternative Hypothesis (H₁ or Hₐ): Assumes there is an effect or a difference.\n",
        "Example:\n",
        "You're testing whether a new UPI feature improves transaction speed.\n",
        "\n",
        "H₀: The new UPI feature does not improve transaction speed.\n",
        "H₁: The new UPI feature does improve transaction speed.\n",
        "\n",
        "# **2. Type I & Type II Errors**\n",
        "Type I Error (False Positive): Rejecting H₀ when it's actually true.\n",
        "Type II Error (False Negative): Failing to reject H₀ when H₁ is actually true.\n",
        "Example:\n",
        "Continuing the UPI feature test:\n",
        "\n",
        "Type I Error: You conclude the feature improves speed, but it actually doesn’t.\n",
        "Type II Error: You conclude the feature doesn’t improve speed, but it actually does.\n",
        "\n",
        "# **3. Significance Level (α)**\n",
        "The probability of making a Type I error.\n",
        "Common values: 0.05 (5%), 0.01 (1%).\n",
        "Example:\n",
        "If α = 0.05, you’re willing to accept a 5% chance of wrongly rejecting the null hypothesis.\n",
        "\n",
        "# **4. p-value**\n",
        "The probability of observing your data (or more extreme) assuming H₀ is true.\n",
        "If p-value < α, reject H₀.\n",
        "Example:\n",
        "You get a p-value of 0.03 and α = 0.05 → reject H₀ → the UPI feature likely improves speed.\n",
        "\n",
        "# **5. Critical Value**\n",
        "A threshold value that defines the boundary for rejecting H₀.\n",
        "Depends on the test type (e.g., z-test, t-test) and α.\n",
        "Example:\n",
        "In a z-test with α = 0.05 (two-tailed), the critical values are ±1.96.\n",
        "If your test statistic is beyond ±1.96, reject H₀."
      ],
      "metadata": {
        "id": "1yvwNcj5NU8H"
      }
    },
    {
      "cell_type": "code",
      "execution_count": null,
      "metadata": {
        "id": "IdA19ud6NUH8"
      },
      "outputs": [],
      "source": []
    }
  ]
}